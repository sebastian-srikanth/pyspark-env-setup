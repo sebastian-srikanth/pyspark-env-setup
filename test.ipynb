{
 "cells": [
  {
   "cell_type": "code",
   "execution_count": 1,
   "id": "e845328c",
   "metadata": {},
   "outputs": [],
   "source": [
    "import pyspark"
   ]
  },
  {
   "cell_type": "code",
   "execution_count": 2,
   "id": "5acb3a97",
   "metadata": {},
   "outputs": [],
   "source": [
    "from pyspark import SparkContext"
   ]
  },
  {
   "cell_type": "code",
   "execution_count": 3,
   "id": "d8436ac0",
   "metadata": {},
   "outputs": [],
   "source": [
    "sc = SparkContext()"
   ]
  },
  {
   "cell_type": "code",
   "execution_count": 4,
   "id": "5a995756",
   "metadata": {},
   "outputs": [
    {
     "data": {
      "text/plain": [
       "[('spark.app.id', 'local-1646269895698'),\n",
       " ('spark.executor.id', 'driver'),\n",
       " ('spark.app.name', 'pyspark-shell'),\n",
       " ('spark.driver.extraJavaOptions',\n",
       "  '-Dio.netty.tryReflectionSetAccessible=true'),\n",
       " ('spark.rdd.compress', 'True'),\n",
       " ('spark.driver.host', '04d404fbf5f6'),\n",
       " ('spark.serializer.objectStreamReset', '100'),\n",
       " ('spark.master', 'local[*]'),\n",
       " ('spark.submit.pyFiles', ''),\n",
       " ('spark.submit.deployMode', 'client'),\n",
       " ('spark.app.startTime', '1646269894202'),\n",
       " ('spark.executor.extraJavaOptions',\n",
       "  '-Dio.netty.tryReflectionSetAccessible=true'),\n",
       " ('spark.driver.port', '37431'),\n",
       " ('spark.ui.showConsoleProgress', 'true')]"
      ]
     },
     "execution_count": 4,
     "metadata": {},
     "output_type": "execute_result"
    }
   ],
   "source": [
    "sc.getConf().getAll()"
   ]
  },
  {
   "cell_type": "code",
   "execution_count": 8,
   "id": "1c1ae15f",
   "metadata": {},
   "outputs": [],
   "source": [
    "my_rdd = sc.parallelize([1,2,3,4,5,6],9)"
   ]
  },
  {
   "cell_type": "code",
   "execution_count": 9,
   "id": "6c424841",
   "metadata": {},
   "outputs": [
    {
     "data": {
      "text/plain": [
       "[1, 2, 3, 4, 5, 6]"
      ]
     },
     "execution_count": 9,
     "metadata": {},
     "output_type": "execute_result"
    }
   ],
   "source": [
    "my_rdd.collect()"
   ]
  },
  {
   "cell_type": "code",
   "execution_count": 12,
   "id": "691ad67d",
   "metadata": {},
   "outputs": [
    {
     "data": {
      "text/plain": [
       "pyspark.rdd.RDD"
      ]
     },
     "execution_count": 12,
     "metadata": {},
     "output_type": "execute_result"
    }
   ],
   "source": [
    "type(my_rdd)"
   ]
  },
  {
   "cell_type": "markdown",
   "id": "4a7c3785",
   "metadata": {},
   "source": [
    "#### Glom makes the rdd to Pipelinedrdd to store into partitions"
   ]
  },
  {
   "cell_type": "code",
   "execution_count": 10,
   "id": "520e47d1",
   "metadata": {},
   "outputs": [
    {
     "data": {
      "text/plain": [
       "[[], [1], [2], [], [3], [4], [], [5], [6]]"
      ]
     },
     "execution_count": 10,
     "metadata": {},
     "output_type": "execute_result"
    }
   ],
   "source": [
    "my_rdd.glom().collect()"
   ]
  },
  {
   "cell_type": "code",
   "execution_count": 11,
   "id": "4f7ea49d",
   "metadata": {},
   "outputs": [
    {
     "data": {
      "text/plain": [
       "pyspark.rdd.PipelinedRDD"
      ]
     },
     "execution_count": 11,
     "metadata": {},
     "output_type": "execute_result"
    }
   ],
   "source": [
    "type(my_rdd.glom())"
   ]
  },
  {
   "cell_type": "markdown",
   "id": "6f6b8a6a",
   "metadata": {},
   "source": [
    "### Aggregate Functions"
   ]
  },
  {
   "cell_type": "code",
   "execution_count": 15,
   "id": "e06d1062",
   "metadata": {},
   "outputs": [
    {
     "data": {
      "text/plain": [
       "(6, 1)"
      ]
     },
     "execution_count": 15,
     "metadata": {},
     "output_type": "execute_result"
    }
   ],
   "source": [
    "my_rdd.max(), my_rdd.min()"
   ]
  },
  {
   "cell_type": "markdown",
   "id": "79c36b08",
   "metadata": {},
   "source": [
    "### RDD Actions and Transformations"
   ]
  },
  {
   "cell_type": "markdown",
   "id": "b531f513",
   "metadata": {},
   "source": [
    "#### Actions\n",
    "collect()\n",
    "count()\n",
    "countByValue()\n",
    "take()\n",
    "top()\n",
    "reduce()\n",
    "fold()\n",
    "foreach()\n",
    "saveAsTextFile()"
   ]
  },
  {
   "cell_type": "markdown",
   "id": "b20ed071",
   "metadata": {},
   "source": [
    "#### Transformations\n",
    "map()\n",
    "flatmap()\n",
    "filter()\n",
    "distinct()\n",
    "reduceByKey()\n",
    "groupByKey()\n",
    "mapValues()\n",
    "flatmapValues()\n",
    "sortByKey()"
   ]
  },
  {
   "cell_type": "code",
   "execution_count": 16,
   "id": "77b1ce96",
   "metadata": {},
   "outputs": [
    {
     "data": {
      "text/plain": [
       "6"
      ]
     },
     "execution_count": 16,
     "metadata": {},
     "output_type": "execute_result"
    }
   ],
   "source": [
    "my_rdd.count()"
   ]
  },
  {
   "cell_type": "code",
   "execution_count": 17,
   "id": "a88a430f",
   "metadata": {},
   "outputs": [
    {
     "data": {
      "text/plain": [
       "defaultdict(int, {1: 1, 2: 1, 3: 1, 4: 1, 5: 1, 6: 1})"
      ]
     },
     "execution_count": 17,
     "metadata": {},
     "output_type": "execute_result"
    }
   ],
   "source": [
    "my_rdd.countByValue()"
   ]
  },
  {
   "cell_type": "code",
   "execution_count": 18,
   "id": "8dc18d3c",
   "metadata": {},
   "outputs": [
    {
     "data": {
      "text/plain": [
       "[1, 2]"
      ]
     },
     "execution_count": 18,
     "metadata": {},
     "output_type": "execute_result"
    }
   ],
   "source": [
    "my_rdd.take(2)"
   ]
  },
  {
   "cell_type": "code",
   "execution_count": 22,
   "id": "1287ab18",
   "metadata": {},
   "outputs": [
    {
     "data": {
      "text/plain": [
       "[6, 5]"
      ]
     },
     "execution_count": 22,
     "metadata": {},
     "output_type": "execute_result"
    }
   ],
   "source": [
    "my_rdd.top(2)"
   ]
  },
  {
   "cell_type": "markdown",
   "id": "6a42bd77",
   "metadata": {},
   "source": [
    "### reduce"
   ]
  },
  {
   "cell_type": "code",
   "execution_count": null,
   "id": "599173bb",
   "metadata": {},
   "outputs": [],
   "source": [
    "# reduce is applied to a rdd and accepts a function that takes two arguments only and returns one Output\n",
    "my_rdd.reduce"
   ]
  },
  {
   "cell_type": "code",
   "execution_count": 29,
   "id": "f28bd7e7",
   "metadata": {},
   "outputs": [],
   "source": [
    "def fun(x,y):\n",
    "    return x+y"
   ]
  },
  {
   "cell_type": "code",
   "execution_count": 35,
   "id": "f9cdcdca",
   "metadata": {},
   "outputs": [
    {
     "data": {
      "text/plain": [
       "21"
      ]
     },
     "execution_count": 35,
     "metadata": {},
     "output_type": "execute_result"
    }
   ],
   "source": [
    "my_rdd.reduce(fun)"
   ]
  },
  {
   "cell_type": "code",
   "execution_count": 36,
   "id": "946b52f4",
   "metadata": {},
   "outputs": [
    {
     "data": {
      "text/plain": [
       "[1, 2, 3, 4, 5, 6]"
      ]
     },
     "execution_count": 36,
     "metadata": {},
     "output_type": "execute_result"
    }
   ],
   "source": [
    "my_rdd.collect()"
   ]
  },
  {
   "cell_type": "markdown",
   "id": "05cce2ef",
   "metadata": {},
   "source": [
    "1+2 = 3 <br>\n",
    "3+3 = 6 <br>\n",
    "6+4 = 10 <br>\n",
    "10+5 = 15<br>\n",
    "15+6 = 21<br>"
   ]
  },
  {
   "cell_type": "code",
   "execution_count": 37,
   "id": "17208d9b",
   "metadata": {},
   "outputs": [
    {
     "data": {
      "text/plain": [
       "720"
      ]
     },
     "execution_count": 37,
     "metadata": {},
     "output_type": "execute_result"
    }
   ],
   "source": [
    "my_rdd.reduce(lambda a,b: a*b)"
   ]
  },
  {
   "cell_type": "markdown",
   "id": "0ee23988",
   "metadata": {},
   "source": [
    "1 x 2 = 2 <br>\n",
    "2 x 3 = 6 <br>\n",
    "6 x 4 = 24 <br>\n",
    "24 x 5 = 120 <br>\n",
    "120 x 6 = 720 <br>"
   ]
  },
  {
   "cell_type": "code",
   "execution_count": 46,
   "id": "8770aaa6",
   "metadata": {},
   "outputs": [
    {
     "data": {
      "text/plain": [
       "[1, 2]"
      ]
     },
     "execution_count": 46,
     "metadata": {},
     "output_type": "execute_result"
    }
   ],
   "source": [
    "my_rdd.takeOrdered(2)"
   ]
  },
  {
   "cell_type": "code",
   "execution_count": 47,
   "id": "bbe4ae36",
   "metadata": {},
   "outputs": [
    {
     "data": {
      "text/plain": [
       "[1, 2, 3, 4]"
      ]
     },
     "execution_count": 47,
     "metadata": {},
     "output_type": "execute_result"
    }
   ],
   "source": [
    "my_rdd.takeOrdered(4)"
   ]
  },
  {
   "cell_type": "markdown",
   "id": "0ee2ff71",
   "metadata": {},
   "source": [
    "### fold"
   ]
  },
  {
   "cell_type": "code",
   "execution_count": 48,
   "id": "c04755fc",
   "metadata": {},
   "outputs": [],
   "source": [
    "# this is same as reduce but additional argument is passed as fold value"
   ]
  },
  {
   "cell_type": "code",
   "execution_count": 49,
   "id": "e26a41e1",
   "metadata": {},
   "outputs": [
    {
     "data": {
      "text/plain": [
       "21"
      ]
     },
     "execution_count": 49,
     "metadata": {},
     "output_type": "execute_result"
    }
   ],
   "source": [
    "my_rdd.fold(0,fun)"
   ]
  },
  {
   "cell_type": "code",
   "execution_count": 51,
   "id": "41391a92",
   "metadata": {},
   "outputs": [
    {
     "data": {
      "text/plain": [
       "[[], [1], [2], [], [3], [4], [], [5], [6]]"
      ]
     },
     "execution_count": 51,
     "metadata": {},
     "output_type": "execute_result"
    }
   ],
   "source": [
    "my_rdd.glom().collect()"
   ]
  },
  {
   "cell_type": "code",
   "execution_count": 52,
   "id": "5e6754da",
   "metadata": {},
   "outputs": [
    {
     "data": {
      "text/plain": [
       "31"
      ]
     },
     "execution_count": 52,
     "metadata": {},
     "output_type": "execute_result"
    }
   ],
   "source": [
    "my_rdd.fold(1, fun)"
   ]
  },
  {
   "cell_type": "code",
   "execution_count": 53,
   "id": "0328b4c7",
   "metadata": {},
   "outputs": [
    {
     "data": {
      "text/plain": [
       "41"
      ]
     },
     "execution_count": 53,
     "metadata": {},
     "output_type": "execute_result"
    }
   ],
   "source": [
    "my_rdd.fold(2, fun)"
   ]
  },
  {
   "cell_type": "markdown",
   "id": "152447c7",
   "metadata": {},
   "source": [
    "## Transformations to rdd"
   ]
  },
  {
   "cell_type": "markdown",
   "id": "608ff6a0",
   "metadata": {},
   "source": [
    "when we apply different transformation functions it will not generate a new rdd everytime it will only check the syntax and saves as  DAG (Direct Asyclic Graph)"
   ]
  },
  {
   "cell_type": "markdown",
   "id": "74cf6627",
   "metadata": {},
   "source": [
    "Transformations are of two types\n",
    "1. Narrow ( each partition (node) can run in parallel and generate result and finally combine all results generated by each partition)\n",
    "2. Wide (all partitions should talk to each other partitions (nodes) and then generate the result)"
   ]
  },
  {
   "cell_type": "markdown",
   "id": "e91051fb",
   "metadata": {},
   "source": [
    "#### Narrow Transformation\n",
    "map, flatMap, mapPartiton, sample, union"
   ]
  },
  {
   "cell_type": "markdown",
   "id": "87869eec",
   "metadata": {},
   "source": [
    "#### Wide Transformation\n",
    "intersection and join, distinct"
   ]
  },
  {
   "cell_type": "code",
   "execution_count": null,
   "id": "1d68da86",
   "metadata": {},
   "outputs": [],
   "source": []
  }
 ],
 "metadata": {
  "kernelspec": {
   "display_name": "Python 3 (ipykernel)",
   "language": "python",
   "name": "python3"
  },
  "language_info": {
   "codemirror_mode": {
    "name": "ipython",
    "version": 3
   },
   "file_extension": ".py",
   "mimetype": "text/x-python",
   "name": "python",
   "nbconvert_exporter": "python",
   "pygments_lexer": "ipython3",
   "version": "3.9.10"
  }
 },
 "nbformat": 4,
 "nbformat_minor": 5
}
